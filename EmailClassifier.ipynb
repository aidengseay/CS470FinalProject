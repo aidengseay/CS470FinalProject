{
 "cells": [
  {
   "cell_type": "markdown",
   "metadata": {},
   "source": [
    "# Email Classifier - CS470 Final Project\n",
    "## Aiden Seay Spring 2024"
   ]
  },
  {
   "cell_type": "markdown",
   "metadata": {},
   "source": [
    "### Set Up Program"
   ]
  },
  {
   "cell_type": "markdown",
   "metadata": {},
   "source": [
    "#### Import Necessary Libraries"
   ]
  },
  {
   "cell_type": "code",
   "execution_count": 11,
   "metadata": {},
   "outputs": [],
   "source": [
    "# IMPORT FUNCTION UTILITIES\n",
    "import Utilities.KNN as KNN\n",
    "import Utilities.LogisticRegression as LogisticRegression\n",
    "from Utilities.NaiveBayes import NaiveBayesClass\n",
    "import Utilities.SplitDataset as GetData\n",
    "import Utilities.Analysis as Analysis\n",
    "\n",
    "# CONSTANTS\n",
    "TARGET = 1\n",
    "FEATURE = 0\n",
    "SPAM = -1\n",
    "NOT_SPAM = -2"
   ]
  },
  {
   "cell_type": "markdown",
   "metadata": {},
   "source": [
    "#### Load Email Spam Data\n",
    "\n",
    "You can find the data set [here](https://www.kaggle.com/datasets/colormap/spambase/data). Split the dataset into training, test and evaluation sub categories. "
   ]
  },
  {
   "cell_type": "code",
   "execution_count": 12,
   "metadata": {},
   "outputs": [],
   "source": [
    "# read dataset into pandas df\n",
    "df = GetData.read_dataset(\"./Data/spambase.csv\")\n",
    "\n",
    "# split the dataset (refer to SplitDataset for fold data structure)\n",
    "train_data, validation_data, X_test, y_test = GetData.split_dataset(df)\n",
    "\n",
    "# sample runs of data for testing and displaying success (0 is first fold)\n",
    "# print((train_data[0][FEATURE]).iloc[0])\n",
    "# print((train_data[0][FEATURE]).iloc[0,4])"
   ]
  },
  {
   "cell_type": "markdown",
   "metadata": {},
   "source": [
    "### Test Algorithms\n",
    "All algorithm implementation can be found in the Utilities folder."
   ]
  },
  {
   "cell_type": "markdown",
   "metadata": {},
   "source": [
    "#### Naive Bayes"
   ]
  },
  {
   "cell_type": "code",
   "execution_count": 13,
   "metadata": {},
   "outputs": [
    {
     "name": "stdout",
     "output_type": "stream",
     "text": [
      "word_freq_make          0.00\n",
      "word_freq_address       0.00\n",
      "word_freq_all           0.00\n",
      "word_freq_3d            0.00\n",
      "word_freq_our           1.85\n",
      "word_freq_over          0.00\n",
      "word_freq_remove        0.00\n",
      "word_freq_internet      0.00\n",
      "word_freq_order         0.00\n",
      "word_freq_mail          0.00\n",
      "word_freq_receive       0.00\n",
      "word_freq_will          1.85\n",
      "word_freq_people        1.85\n",
      "word_freq_report        0.00\n",
      "word_freq_addresses     0.00\n",
      "word_freq_free          0.00\n",
      "word_freq_business      0.00\n",
      "word_freq_email         0.00\n",
      "word_freq_you           1.85\n",
      "word_freq_credit        0.00\n",
      "word_freq_your          0.00\n",
      "word_freq_font          0.00\n",
      "word_freq_000           0.00\n",
      "word_freq_money         0.00\n",
      "word_freq_hp            0.00\n",
      "word_freq_hpl           0.00\n",
      "word_freq_george        0.00\n",
      "word_freq_650           0.00\n",
      "word_freq_lab           0.00\n",
      "word_freq_labs          0.00\n",
      "word_freq_telnet        0.00\n",
      "word_freq_857           0.00\n",
      "word_freq_data          0.00\n",
      "word_freq_415           0.00\n",
      "word_freq_85            0.00\n",
      "word_freq_technology    0.00\n",
      "word_freq_1999          0.00\n",
      "word_freq_parts         0.00\n",
      "word_freq_pm            1.85\n",
      "word_freq_direct        0.00\n",
      "word_freq_cs            0.00\n",
      "word_freq_meeting       0.00\n",
      "word_freq_original      0.00\n",
      "word_freq_project       0.00\n",
      "word_freq_re            0.00\n",
      "word_freq_edu           0.00\n",
      "word_freq_table         0.00\n",
      "word_freq_conference    0.00\n",
      "char_freq_;             0.00\n",
      "char_freq_(             0.00\n",
      "char_freq_[             0.00\n",
      "char_freq_!             0.00\n",
      "char_freq_$             0.00\n",
      "char_freq_#             0.00\n",
      "Name: 3787, dtype: float64\n"
     ]
    }
   ],
   "source": [
    "# run naive bayes algorithm across 5 folds \n",
    "#for fold in range(len(train_data)):\n",
    "fold = 0\n",
    "naive_bayes = NaiveBayesClass(train_data[fold], validation_data[fold], \n",
    "                                                                 X_test, y_test)\n",
    "    \n",
    "print(naive_bayes.train_fold[FEATURE].iloc[0])"
   ]
  },
  {
   "cell_type": "markdown",
   "metadata": {},
   "source": [
    "#### Logistic Regression"
   ]
  },
  {
   "cell_type": "code",
   "execution_count": 14,
   "metadata": {},
   "outputs": [],
   "source": [
    "# run logistic regression algorithm across 5 folds\n",
    "lr_result = LogisticRegression.logistic_regression_main()"
   ]
  },
  {
   "cell_type": "markdown",
   "metadata": {},
   "source": [
    "#### K-Nearest Neighbors (KNN)"
   ]
  },
  {
   "cell_type": "code",
   "execution_count": 15,
   "metadata": {},
   "outputs": [],
   "source": [
    "# run knn algorithm across 5 folds\n",
    "knn_result = KNN.knn_main()"
   ]
  },
  {
   "cell_type": "markdown",
   "metadata": {},
   "source": [
    "### Analyze Performance"
   ]
  },
  {
   "cell_type": "markdown",
   "metadata": {},
   "source": [
    "Measure performance by:\n",
    "* Accuracy (ACC)\n",
    "* False Positive (FP)\n",
    "* True Positive (TP)\n",
    "* Area Under ROC Curve (AUC)"
   ]
  },
  {
   "cell_type": "code",
   "execution_count": 16,
   "metadata": {},
   "outputs": [],
   "source": [
    "# TODO: ANALYZE PERFORMANCE HERE"
   ]
  }
 ],
 "metadata": {
  "kernelspec": {
   "display_name": "Python 3",
   "language": "python",
   "name": "python3"
  },
  "language_info": {
   "codemirror_mode": {
    "name": "ipython",
    "version": 3
   },
   "file_extension": ".py",
   "mimetype": "text/x-python",
   "name": "python",
   "nbconvert_exporter": "python",
   "pygments_lexer": "ipython3",
   "version": "3.11.1"
  }
 },
 "nbformat": 4,
 "nbformat_minor": 2
}

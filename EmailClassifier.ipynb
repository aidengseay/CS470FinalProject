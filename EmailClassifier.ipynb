{
 "cells": [
  {
   "cell_type": "markdown",
   "metadata": {},
   "source": [
    "# Email Classifier - CS470 Final Project\n",
    "## Aiden Seay Spring 2024"
   ]
  },
  {
   "cell_type": "markdown",
   "metadata": {},
   "source": [
    "### Set Up Program"
   ]
  },
  {
   "cell_type": "markdown",
   "metadata": {},
   "source": [
    "#### Import Necessary Libraries"
   ]
  },
  {
   "cell_type": "code",
   "execution_count": 1,
   "metadata": {},
   "outputs": [],
   "source": [
    "# IMPORT FUNCTION UTILITIES\n",
    "from Utilities.KNN import KNNClass\n",
    "from Utilities.LogisticRegression import LogisticRegressionClass\n",
    "from Utilities.NaiveBayes import NaiveBayesClass\n",
    "import Utilities.SplitDataset as GetData\n",
    "import Utilities.Analysis as Analysis\n",
    "\n",
    "# CONSTANTS\n",
    "TARGET = 1\n",
    "FEATURE = 0\n",
    "SPAM = -1\n",
    "NOT_SPAM = -2\n",
    "TOTAL = -3"
   ]
  },
  {
   "cell_type": "markdown",
   "metadata": {},
   "source": [
    "#### Load Email Spam Data\n",
    "\n",
    "You can find the data set [here](https://www.kaggle.com/datasets/colormap/spambase/data). Split the dataset into training, test and evaluation sub categories. "
   ]
  },
  {
   "cell_type": "code",
   "execution_count": 2,
   "metadata": {},
   "outputs": [],
   "source": [
    "# read dataset into pandas df\n",
    "df = GetData.read_dataset(\"./Data/spambase.csv\")\n",
    "\n",
    "# split the dataset (refer to SplitDataset for fold data structure)\n",
    "(train_data, validation_data, X_test, y_test, X_train, \n",
    "                                            y_train) = GetData.split_dataset(df)\n",
    "\n",
    "# append all results from each algorithm here\n",
    "results = []"
   ]
  },
  {
   "cell_type": "markdown",
   "metadata": {},
   "source": [
    "### Test Algorithms\n",
    "All algorithm implementation can be found in the Utilities folder."
   ]
  },
  {
   "cell_type": "markdown",
   "metadata": {},
   "source": [
    "#### Naive Bayes"
   ]
  },
  {
   "cell_type": "code",
   "execution_count": 3,
   "metadata": {},
   "outputs": [],
   "source": [
    "\n",
    "# initialize analysis data lists\n",
    "v_acc_list = []\n",
    "v_fp_list = []\n",
    "v_tp_list = []\n",
    "v_auc_list = []\n",
    "\n",
    "t_acc_list = []\n",
    "t_fp_list = []\n",
    "t_tp_list = []\n",
    "t_auc_list = []\n",
    "\n",
    "# run naive bayes algorithm across 5 folds \n",
    "for fold in range(len(train_data)):\n",
    "\n",
    "    # initialize the class\n",
    "    naive_bayes = NaiveBayesClass(train_data[fold], validation_data[fold], \n",
    "                                                                 X_test, y_test)\n",
    "\n",
    "    # train the model\n",
    "    (spam_prop, non_spam_prop, spam_word_freq, \n",
    "                                       non_spam_word_freq) = naive_bayes.learn()\n",
    "\n",
    "    # evaluate the model with validation set\n",
    "    v_calc_result, v_true_result = naive_bayes.evaluate(spam_prop, \n",
    "                              non_spam_prop, spam_word_freq, non_spam_word_freq, \n",
    "                                           naive_bayes.validation_fold[FEATURE],\n",
    "                                           naive_bayes.validation_fold[TARGET])\n",
    "    \n",
    "    # evaluate model with test set\n",
    "    t_calc_result, t_true_result = naive_bayes.evaluate(spam_prop, \n",
    "                              non_spam_prop, spam_word_freq, non_spam_word_freq, \n",
    "                                         naive_bayes.X_test, naive_bayes.y_test)\n",
    "    \n",
    "    \n",
    "    # analyze the results (validation)\n",
    "    acc, fp, tp, auc = Analysis.analyze_results(v_calc_result, v_true_result)\n",
    "    v_acc_list.append(acc)\n",
    "    v_fp_list.append(fp)\n",
    "    v_tp_list.append(tp)\n",
    "    v_auc_list.append(tp)\n",
    "\n",
    "    # analyze the results (test)\n",
    "    acc, fp, tp, auc = Analysis.analyze_results(t_calc_result, t_true_result)\n",
    "    t_acc_list.append(acc)\n",
    "    t_fp_list.append(fp)\n",
    "    t_tp_list.append(tp)\n",
    "    t_auc_list.append(tp)\n",
    "\n",
    "# get the average for the final results (test and validation)\n",
    "v_acc_avg, v_fp_avg, v_tp_avg, v_auc_avg = Analysis.average_stats(v_acc_list, \n",
    "                                               v_fp_list, v_tp_list, v_auc_list)\n",
    "\n",
    "t_acc_avg, t_fp_avg, t_tp_avg, t_auc_avg = Analysis.average_stats(t_acc_list, \n",
    "                                               t_fp_list, t_tp_list, t_auc_list)\n",
    "\n",
    "# append test and validation results\n",
    "results.append(((\"Naive Bayes Algorithm - Validation AVG\", v_acc_avg, v_fp_avg, \n",
    "                                                           v_tp_avg, v_auc_avg), \n",
    "                ((\"Naive Bayes Algorithm - Test AVG\", t_acc_avg, t_fp_avg, \n",
    "                                                         t_tp_avg, t_auc_avg))))\n"
   ]
  },
  {
   "cell_type": "markdown",
   "metadata": {},
   "source": [
    "#### K-Nearest Neighbors (KNN)"
   ]
  },
  {
   "cell_type": "code",
   "execution_count": 4,
   "metadata": {},
   "outputs": [],
   "source": [
    "# run knn algorithm across 5 folds\n",
    "for fold in range(len(train_data)):\n",
    "\n",
    "    # initialize knn class\n",
    "    knn = KNNClass(train_data[fold], validation_data[fold], X_test, y_test)\n",
    "\n",
    "    # no training\n",
    "\n",
    "    # evaluate model with validation set\n",
    "    v_calc_result, v_true_result = knn.evaluate(knn.validation_fold[FEATURE], \n",
    "                                                    knn.validation_fold[TARGET])\n",
    "    \n",
    "    # evaluate mode with test set\n",
    "    t_calc_result, t_true_result = knn.evaluate(knn.X_test, knn.y_test)\n",
    "\n",
    "    # analyze validation results\n",
    "    acc, fp, tp, auc = Analysis.analyze_results(v_calc_result, v_true_result)\n",
    "    v_acc_list.append(acc)\n",
    "    v_fp_list.append(fp)\n",
    "    v_tp_list.append(tp)\n",
    "    v_auc_list.append(tp)\n",
    "\n",
    "    # analyze test results\n",
    "    acc, fp, tp, auc = Analysis.analyze_results(t_calc_result, t_true_result)\n",
    "    t_acc_list.append(acc)\n",
    "    t_fp_list.append(fp)\n",
    "    t_tp_list.append(tp)\n",
    "    t_auc_list.append(tp)\n",
    "\n",
    "# get the average for the final results (test and validation)\n",
    "v_acc_avg, v_fp_avg, v_tp_avg, v_auc_avg = Analysis.average_stats(v_acc_list, \n",
    "                                               v_fp_list, v_tp_list, v_auc_list)\n",
    "\n",
    "t_acc_avg, t_fp_avg, t_tp_avg, t_auc_avg = Analysis.average_stats(t_acc_list, \n",
    "                                               t_fp_list, t_tp_list, t_auc_list)\n",
    "\n",
    "# append test and validation results\n",
    "results.append(((\"KNN Algorithm - Validation AVG\", v_acc_avg, v_fp_avg,\n",
    "                                                           v_tp_avg, v_auc_avg), \n",
    "                ((\"KNN Algorithm - Test AVG\", t_acc_avg, t_fp_avg, t_tp_avg, \n",
    "                                                                   t_auc_avg))))\n",
    "\n"
   ]
  },
  {
   "cell_type": "markdown",
   "metadata": {},
   "source": [
    "#### Logistic Regression"
   ]
  },
  {
   "cell_type": "code",
   "execution_count": 5,
   "metadata": {},
   "outputs": [],
   "source": [
    "# run logistic regression algorithm across 5 folds"
   ]
  },
  {
   "cell_type": "markdown",
   "metadata": {},
   "source": [
    "### Analyze Performance"
   ]
  },
  {
   "cell_type": "markdown",
   "metadata": {},
   "source": [
    "Measure performance by:\n",
    "* Accuracy (ACC)\n",
    "* False Positive (FP)\n",
    "* True Positive (TP)\n",
    "* Area Under ROC Curve (AUC)"
   ]
  },
  {
   "cell_type": "code",
   "execution_count": 6,
   "metadata": {},
   "outputs": [
    {
     "name": "stdout",
     "output_type": "stream",
     "text": [
      "Algorithm Performance Analysis\n",
      "==============================\n",
      "\n",
      "Naive Bayes Algorithm - Validation AVG\n",
      "--------------------------------------\n",
      "Accuracy:         0.8657608695652174\n",
      "False Positive:   0.23978150803391038\n",
      "True Positive:    0.9577895163845683\n",
      "Area Under Curve: 0.9577895163845683\n",
      "\n",
      "Naive Bayes Algorithm - Test AVG\n",
      "--------------------------------\n",
      "Accuracy:         0.8603691639522258\n",
      "False Positive:   0.25697255073954317\n",
      "True Positive:    0.9563342318059299\n",
      "Area Under Curve: 0.9563342318059299\n",
      "\n",
      "KNN Algorithm - Validation AVG\n",
      "------------------------------\n",
      "Accuracy:         0.8368206521739131\n",
      "False Positive:   0.2054494297265276\n",
      "True Positive:    0.847125078314413\n",
      "Area Under Curve: 0.847125078314413\n",
      "\n",
      "KNN Algorithm - Test AVG\n",
      "------------------------\n",
      "Accuracy:         0.8229098805646037\n",
      "False Positive:   0.23692082594106992\n",
      "True Positive:    0.8439353099730458\n",
      "Area Under Curve: 0.8439353099730458\n",
      "\n"
     ]
    }
   ],
   "source": [
    "print(\"Algorithm Performance Analysis\")\n",
    "print(\"==============================\\n\")\n",
    "\n",
    "for algorithm in results:\n",
    "\n",
    "    for test_set in algorithm:\n",
    "\n",
    "        print(test_set[0] + \"\\n\" + \"-\" * len(test_set[0]))\n",
    "        print(f\"Accuracy:         {test_set[1]}\")\n",
    "        print(f\"False Positive:   {test_set[2]}\")\n",
    "        print(f\"True Positive:    {test_set[3]}\")\n",
    "        print(f\"Area Under Curve: {test_set[4]}\\n\")"
   ]
  }
 ],
 "metadata": {
  "kernelspec": {
   "display_name": "Python 3",
   "language": "python",
   "name": "python3"
  },
  "language_info": {
   "codemirror_mode": {
    "name": "ipython",
    "version": 3
   },
   "file_extension": ".py",
   "mimetype": "text/x-python",
   "name": "python",
   "nbconvert_exporter": "python",
   "pygments_lexer": "ipython3",
   "version": "3.11.1"
  }
 },
 "nbformat": 4,
 "nbformat_minor": 2
}

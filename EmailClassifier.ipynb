{
 "cells": [
  {
   "cell_type": "markdown",
   "metadata": {},
   "source": [
    "# Email Classifier - CS470 Final Project\n",
    "## Aiden Seay Spring 2024"
   ]
  },
  {
   "cell_type": "markdown",
   "metadata": {},
   "source": [
    "### Set Up Program"
   ]
  },
  {
   "cell_type": "markdown",
   "metadata": {},
   "source": [
    "#### Import Necessary Libraries"
   ]
  },
  {
   "cell_type": "code",
   "execution_count": 1,
   "metadata": {},
   "outputs": [],
   "source": [
    "# IMPORT FUNCTION UTILITIES\n",
    "from Utilities.KNN import KNNClass\n",
    "from Utilities.LogisticRegression import LogisticRegressionClass\n",
    "from Utilities.NaiveBayes import NaiveBayesClass\n",
    "import Utilities.SplitDataset as GetData\n",
    "import Utilities.Analysis as Analysis\n",
    "\n",
    "# CONSTANTS\n",
    "TARGET = 1\n",
    "FEATURE = 0\n",
    "SPAM = -1\n",
    "NOT_SPAM = -2\n",
    "TOTAL = -3"
   ]
  },
  {
   "cell_type": "markdown",
   "metadata": {},
   "source": [
    "#### Load Email Spam Data\n",
    "\n",
    "You can find the data set [here](https://www.kaggle.com/datasets/colormap/spambase/data). Split the dataset into training, test and evaluation sub categories. "
   ]
  },
  {
   "cell_type": "code",
   "execution_count": 2,
   "metadata": {},
   "outputs": [],
   "source": [
    "# read dataset into pandas df\n",
    "df = GetData.read_dataset(\"./Data/spambase.csv\")\n",
    "\n",
    "# split the dataset (refer to SplitDataset for fold data structure)\n",
    "(train_data, validation_data, X_test, y_test, X_train, \n",
    "                                            y_train) = GetData.split_dataset(df)\n",
    "\n",
    "# append all results from each algorithm here\n",
    "results = []"
   ]
  },
  {
   "cell_type": "markdown",
   "metadata": {},
   "source": [
    "### Test Algorithms\n",
    "All algorithm implementation can be found in the Utilities folder."
   ]
  },
  {
   "cell_type": "markdown",
   "metadata": {},
   "source": [
    "#### Naive Bayes"
   ]
  },
  {
   "cell_type": "code",
   "execution_count": 3,
   "metadata": {},
   "outputs": [],
   "source": [
    "# initialize analysis data lists\n",
    "acc_list = []\n",
    "fp_list = []\n",
    "tp_list = []\n",
    "auc_list = []\n",
    "\n",
    "# run naive bayes algorithm across 5 folds \n",
    "for fold in range(len(train_data)):\n",
    "\n",
    "    # initialize the class\n",
    "    naive_bayes = NaiveBayesClass(train_data[fold], validation_data[fold], \n",
    "                                                                 X_test, y_test)\n",
    "\n",
    "    # train the model\n",
    "    (spam_prop, non_spam_prop, spam_word_freq, \n",
    "                                       non_spam_word_freq) = naive_bayes.learn()\n",
    "\n",
    "    # evaluate the model\n",
    "    calc_result, true_result = naive_bayes.evaluate(spam_prop, non_spam_prop, \n",
    "                                             spam_word_freq, non_spam_word_freq)\n",
    "    \n",
    "    # analyze the results\n",
    "    acc, fp, tp, auc = Analysis.analyze_results(calc_result, true_result)\n",
    "    acc_list.append(acc)\n",
    "    fp_list.append(fp)\n",
    "    tp_list.append(tp)\n",
    "    auc_list.append(tp)\n",
    "\n",
    "# get the average for the final results\n",
    "acc_avg, fp_avg, tp_avg, auc_avg = Analysis.average_stats(acc_list, \n",
    "                                                    fp_list, tp_list, auc_list)\n",
    "\n",
    "results.append((\"Naive Bayes Algorithm\", acc_avg, fp_avg, tp_avg, auc_avg))\n"
   ]
  },
  {
   "cell_type": "markdown",
   "metadata": {},
   "source": [
    "#### K-Nearest Neighbors (KNN)"
   ]
  },
  {
   "cell_type": "code",
   "execution_count": 4,
   "metadata": {},
   "outputs": [],
   "source": [
    "# run knn algorithm across 5 folds\n",
    "#for fold in range(len(train_data))\n",
    "# fold = 0\n",
    "# knn = KNNClass(train_data[fold], validation_data[fold], X_test, y_test)"
   ]
  },
  {
   "cell_type": "markdown",
   "metadata": {},
   "source": [
    "#### Logistic Regression"
   ]
  },
  {
   "cell_type": "code",
   "execution_count": 5,
   "metadata": {},
   "outputs": [],
   "source": [
    "# run logistic regression algorithm across 5 folds"
   ]
  },
  {
   "cell_type": "markdown",
   "metadata": {},
   "source": [
    "### Analyze Performance"
   ]
  },
  {
   "cell_type": "markdown",
   "metadata": {},
   "source": [
    "Measure performance by:\n",
    "* Accuracy (ACC)\n",
    "* False Positive (FP)\n",
    "* True Positive (TP)\n",
    "* Area Under ROC Curve (AUC)"
   ]
  },
  {
   "cell_type": "code",
   "execution_count": 6,
   "metadata": {},
   "outputs": [
    {
     "name": "stdout",
     "output_type": "stream",
     "text": [
      "Algorithm Performance Analysis\n",
      "==============================\n",
      "\n",
      "Naive Bayes Algorithm\n",
      "---------------------\n",
      "Accuracy:         0.8119565217391305\n",
      "False Positive:   0.4120111204008374\n",
      "True Positive:    0.9723299965427898\n",
      "Area Under Curve: 0.9723299965427898\n",
      "\n"
     ]
    }
   ],
   "source": [
    "print(\"Algorithm Performance Analysis\")\n",
    "print(\"==============================\\n\")\n",
    "\n",
    "for result in results:\n",
    "\n",
    "    print(result[0] + \"\\n\" + \"-\" * len(result[0]))\n",
    "    print(f\"Accuracy:         {result[1]}\")\n",
    "    print(f\"False Positive:   {result[2]}\")\n",
    "    print(f\"True Positive:    {result[3]}\")\n",
    "    print(f\"Area Under Curve: {result[4]}\\n\")"
   ]
  }
 ],
 "metadata": {
  "kernelspec": {
   "display_name": "Python 3",
   "language": "python",
   "name": "python3"
  },
  "language_info": {
   "codemirror_mode": {
    "name": "ipython",
    "version": 3
   },
   "file_extension": ".py",
   "mimetype": "text/x-python",
   "name": "python",
   "nbconvert_exporter": "python",
   "pygments_lexer": "ipython3",
   "version": "3.11.1"
  }
 },
 "nbformat": 4,
 "nbformat_minor": 2
}

{
 "cells": [
  {
   "cell_type": "markdown",
   "metadata": {},
   "source": [
    "# Email Classifier - CS470 Final Project\n",
    "## Aiden Seay Spring 2024"
   ]
  },
  {
   "cell_type": "markdown",
   "metadata": {},
   "source": [
    "### Set Up Program"
   ]
  },
  {
   "cell_type": "markdown",
   "metadata": {},
   "source": [
    "#### Import Necessary Libraries"
   ]
  },
  {
   "cell_type": "code",
   "execution_count": 22,
   "metadata": {},
   "outputs": [],
   "source": [
    "import Utilities.KNN as KNN\n",
    "import Utilities.LogisticRegression as LogisticRegression\n",
    "import Utilities.NaiveBayes as NaiveBayes\n",
    "import Utilities.SplitDataset as Data\n",
    "import Utilities.Analysis as Analysis"
   ]
  },
  {
   "cell_type": "markdown",
   "metadata": {},
   "source": [
    "#### Load Email Spam Data\n",
    "\n",
    "You can find the data set [here](https://www.kaggle.com/datasets/colormap/spambase/data). Split the dataset into training, test and evaluation sub categories. "
   ]
  },
  {
   "cell_type": "code",
   "execution_count": 32,
   "metadata": {},
   "outputs": [],
   "source": [
    "# read dataset into pandas df\n",
    "df = Data.read_dataset(\"./Data/spambase.csv\")\n",
    "\n",
    "# split the dataset (refer to SplitDataset for fold data structure)\n",
    "train_data, validation_data, X_test, y_test = Data.split_dataset(df)"
   ]
  },
  {
   "cell_type": "markdown",
   "metadata": {},
   "source": [
    "### Test Algorithms\n",
    "All algorithm implementation can be found in the Utilities folder."
   ]
  },
  {
   "cell_type": "markdown",
   "metadata": {},
   "source": [
    "#### Naive Bayes"
   ]
  },
  {
   "cell_type": "code",
   "execution_count": 24,
   "metadata": {},
   "outputs": [],
   "source": [
    "# run naive bayes algorithm\n",
    "nb_result = NaiveBayes.naive_bayes_main()"
   ]
  },
  {
   "cell_type": "markdown",
   "metadata": {},
   "source": [
    "#### Logistic Regression"
   ]
  },
  {
   "cell_type": "code",
   "execution_count": 25,
   "metadata": {},
   "outputs": [],
   "source": [
    "# run logistic regression algorithm\n",
    "lr_result = LogisticRegression.logistic_regression_main()"
   ]
  },
  {
   "cell_type": "markdown",
   "metadata": {},
   "source": [
    "#### K-Nearest Neighbors (KNN)"
   ]
  },
  {
   "cell_type": "code",
   "execution_count": 26,
   "metadata": {},
   "outputs": [],
   "source": [
    "# run knn algorithm\n",
    "knn_result = KNN.knn_main()"
   ]
  },
  {
   "cell_type": "markdown",
   "metadata": {},
   "source": [
    "### Analyze Performance"
   ]
  },
  {
   "cell_type": "markdown",
   "metadata": {},
   "source": [
    "Measure performance by:\n",
    "* Accuracy (ACC)\n",
    "* False Positive (FP)\n",
    "* True Positive (TP)\n",
    "* Area Under ROC Curve (AUC)"
   ]
  },
  {
   "cell_type": "code",
   "execution_count": 27,
   "metadata": {},
   "outputs": [],
   "source": [
    "# TODO: ANALYZE PERFORMANCE HERE"
   ]
  }
 ],
 "metadata": {
  "kernelspec": {
   "display_name": "Python 3",
   "language": "python",
   "name": "python3"
  },
  "language_info": {
   "codemirror_mode": {
    "name": "ipython",
    "version": 3
   },
   "file_extension": ".py",
   "mimetype": "text/x-python",
   "name": "python",
   "nbconvert_exporter": "python",
   "pygments_lexer": "ipython3",
   "version": "3.11.1"
  }
 },
 "nbformat": 4,
 "nbformat_minor": 2
}

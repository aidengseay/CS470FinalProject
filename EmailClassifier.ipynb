{
 "cells": [
  {
   "cell_type": "markdown",
   "metadata": {},
   "source": [
    "# Email Classifier - CS470 Final Project\n",
    "## Aiden Seay Spring 2024"
   ]
  },
  {
   "cell_type": "markdown",
   "metadata": {},
   "source": [
    "### Set Up Program"
   ]
  },
  {
   "cell_type": "markdown",
   "metadata": {},
   "source": [
    "#### Import Necessary Libraries"
   ]
  },
  {
   "cell_type": "code",
   "execution_count": 1,
   "metadata": {},
   "outputs": [],
   "source": [
    "# IMPORT FUNCTION UTILITIES\n",
    "import Utilities.KNN as KNN\n",
    "import Utilities.LogisticRegression as LogisticRegression\n",
    "from Utilities.NaiveBayes import NaiveBayesClass\n",
    "import Utilities.SplitDataset as GetData\n",
    "import Utilities.Analysis as Analysis\n",
    "\n",
    "# CONSTANTS\n",
    "TARGET = 1\n",
    "FEATURE = 0\n",
    "SPAM = -1\n",
    "NOT_SPAM = -2\n",
    "TOTAL = -3\n"
   ]
  },
  {
   "cell_type": "markdown",
   "metadata": {},
   "source": [
    "#### Load Email Spam Data\n",
    "\n",
    "You can find the data set [here](https://www.kaggle.com/datasets/colormap/spambase/data). Split the dataset into training, test and evaluation sub categories. "
   ]
  },
  {
   "cell_type": "code",
   "execution_count": 2,
   "metadata": {},
   "outputs": [
    {
     "name": "stdout",
     "output_type": "stream",
     "text": [
      "      word_freq_make  word_freq_address  word_freq_all  word_freq_3d  \\\n",
      "3787            0.00                0.0           0.00           0.0   \n",
      "3777            0.00                0.0           0.00           0.0   \n",
      "1910            0.31                0.0           0.00           0.0   \n",
      "347             0.08                0.0           0.08           0.0   \n",
      "1510            0.80                0.0           0.80           0.0   \n",
      "...              ...                ...            ...           ...   \n",
      "2193            0.00                0.0           0.00           0.0   \n",
      "3473            0.00                0.0           0.00           0.0   \n",
      "343             0.63                0.0           0.63           0.0   \n",
      "899             0.00                0.0           1.31           0.0   \n",
      "4514            0.88                0.0           0.00           0.0   \n",
      "\n",
      "      word_freq_our  word_freq_over  word_freq_remove  word_freq_internet  \\\n",
      "3787           1.85             0.0              0.00                 0.0   \n",
      "3777           1.11             0.0              0.00                 0.0   \n",
      "1910           0.00             0.0              0.00                 0.0   \n",
      "347            0.16             0.0              0.00                 0.0   \n",
      "1510           1.60             0.0              0.00                 0.0   \n",
      "...             ...             ...               ...                 ...   \n",
      "2193           0.00             0.0              0.00                 0.0   \n",
      "3473           0.00             0.0              0.00                 0.0   \n",
      "343            1.27             0.0              0.63                 0.0   \n",
      "899            0.00             0.0              0.00                 0.0   \n",
      "4514           0.00             0.0              0.00                 0.0   \n",
      "\n",
      "      word_freq_order  word_freq_mail  ...  word_freq_conference  char_freq_;  \\\n",
      "3787              0.0            0.00  ...                   0.0          0.0   \n",
      "3777              0.0            0.00  ...                   0.0          0.0   \n",
      "1910              0.0            0.00  ...                   0.0          0.0   \n",
      "347               0.0            0.00  ...                   0.0          0.0   \n",
      "1510              0.0            0.00  ...                   0.0          0.0   \n",
      "...               ...             ...  ...                   ...          ...   \n",
      "2193              0.0            0.00  ...                   0.0          0.0   \n",
      "3473              0.0            0.00  ...                   0.0          0.0   \n",
      "343               0.0            0.00  ...                   0.0          0.1   \n",
      "899               0.0            0.00  ...                   0.0          0.0   \n",
      "4514              0.0            1.76  ...                   0.0          0.0   \n",
      "\n",
      "      char_freq_(  char_freq_[  char_freq_!  char_freq_$  char_freq_#  \\\n",
      "3787        0.000          0.0        0.000        0.000          0.0   \n",
      "3777        0.363          0.0        0.181        0.000          0.0   \n",
      "1910        0.000          0.0        0.000        0.000          0.0   \n",
      "347         0.228          0.0        0.406        0.038          0.0   \n",
      "1510        0.000          0.0        1.566        0.361          0.0   \n",
      "...           ...          ...          ...          ...          ...   \n",
      "2193        0.000          0.0        0.000        0.000          0.0   \n",
      "3473        0.000          0.0        0.000        0.000          0.0   \n",
      "343         0.000          0.0        0.501        0.300          0.0   \n",
      "899         0.000          0.0        0.000        0.210          0.0   \n",
      "4514        0.125          0.0        0.125        0.000          0.0   \n",
      "\n",
      "      capital_run_length_average  capital_run_length_longest  \\\n",
      "3787                       1.714                           4   \n",
      "3777                       1.285                           4   \n",
      "1910                       1.446                           6   \n",
      "347                        2.811                          67   \n",
      "1510                       2.638                          22   \n",
      "...                          ...                         ...   \n",
      "2193                       1.750                           3   \n",
      "3473                       1.285                           3   \n",
      "343                        2.458                          22   \n",
      "899                        4.500                          25   \n",
      "4514                       1.681                           5   \n",
      "\n",
      "      capital_run_length_total  \n",
      "3787                        12  \n",
      "3777                        27  \n",
      "1910                        94  \n",
      "347                       1254  \n",
      "1510                       124  \n",
      "...                        ...  \n",
      "2193                         7  \n",
      "3473                         9  \n",
      "343                        118  \n",
      "899                         54  \n",
      "4514                        37  \n",
      "\n",
      "[2944 rows x 57 columns]\n"
     ]
    }
   ],
   "source": [
    "# read dataset into pandas df\n",
    "df = GetData.read_dataset(\"./Data/spambase.csv\")\n",
    "\n",
    "# split the dataset (refer to SplitDataset for fold data structure)\n",
    "train_data, validation_data, X_test, y_test = GetData.split_dataset(df)\n",
    "\n",
    "# sample runs of data for testing and displaying success\n",
    "fold = 0\n",
    "print((train_data[fold][FEATURE]))\n",
    "# print((train_data[fold][FEATURE]).iloc[0,4])\n",
    "\n",
    "# append all results from each algorithm here\n",
    "results = []"
   ]
  },
  {
   "cell_type": "markdown",
   "metadata": {},
   "source": [
    "### Test Algorithms\n",
    "All algorithm implementation can be found in the Utilities folder."
   ]
  },
  {
   "cell_type": "markdown",
   "metadata": {},
   "source": [
    "#### Naive Bayes"
   ]
  },
  {
   "cell_type": "code",
   "execution_count": 3,
   "metadata": {},
   "outputs": [
    {
     "name": "stdout",
     "output_type": "stream",
     "text": [
      "54\n"
     ]
    }
   ],
   "source": [
    "# run naive bayes algorithm across 5 folds \n",
    "#for fold in range(len(train_data)):\n",
    "fold = 0\n",
    "naive_bayes = NaiveBayesClass(train_data[fold], validation_data[fold], \n",
    "                                                                 X_test, y_test)\n",
    "\n",
    "# train the model\n",
    "# naive_bayes.learn()"
   ]
  },
  {
   "cell_type": "markdown",
   "metadata": {},
   "source": [
    "#### K-Nearest Neighbors (KNN)"
   ]
  },
  {
   "cell_type": "code",
   "execution_count": 4,
   "metadata": {},
   "outputs": [],
   "source": [
    "# run knn algorithm across 5 folds"
   ]
  },
  {
   "cell_type": "markdown",
   "metadata": {},
   "source": [
    "#### Logistic Regression"
   ]
  },
  {
   "cell_type": "code",
   "execution_count": 5,
   "metadata": {},
   "outputs": [],
   "source": [
    "# run logistic regression algorithm across 5 folds"
   ]
  },
  {
   "cell_type": "markdown",
   "metadata": {},
   "source": [
    "### Analyze Performance"
   ]
  },
  {
   "cell_type": "markdown",
   "metadata": {},
   "source": [
    "Measure performance by:\n",
    "* Accuracy (ACC)\n",
    "* False Positive (FP)\n",
    "* True Positive (TP)\n",
    "* Area Under ROC Curve (AUC)"
   ]
  },
  {
   "cell_type": "code",
   "execution_count": 6,
   "metadata": {},
   "outputs": [],
   "source": [
    "# TODO: ANALYZE PERFORMANCE HERE"
   ]
  }
 ],
 "metadata": {
  "kernelspec": {
   "display_name": "Python 3",
   "language": "python",
   "name": "python3"
  },
  "language_info": {
   "codemirror_mode": {
    "name": "ipython",
    "version": 3
   },
   "file_extension": ".py",
   "mimetype": "text/x-python",
   "name": "python",
   "nbconvert_exporter": "python",
   "pygments_lexer": "ipython3",
   "version": "3.11.1"
  }
 },
 "nbformat": 4,
 "nbformat_minor": 2
}
